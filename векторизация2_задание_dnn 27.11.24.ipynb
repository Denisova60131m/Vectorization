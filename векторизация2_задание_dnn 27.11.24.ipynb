{
 "cells": [
  {
   "cell_type": "code",
   "execution_count": null,
   "id": "25aa956b-e6b7-414b-ab0c-a9c35d3e3c55",
   "metadata": {
    "tags": []
   },
   "outputs": [],
   "source": [
    "import spacy\n",
    "from sklearn.metrics.pairwise import cosine_similarity\n",
    "import numpy as np\n",
    "\n",
    "# Загрузка модели spaCy для русского языка\n",
    "nlp = spacy.load(\"ru_core_news_md\")\n",
    "\n",
    "text_Natalia = \"\"\"\n",
    "Любой тест работает с воспоминаниями, а они могут искажаться под воздействием стресса и других эмоций. \n",
    "Возможно, вы выбирали варианты ответа, которые не вполне отражают то, как вы обычно поступаете в действительности. \n",
    "Что делать? Если так вышло только с одним блоком теста, сфокусируйтесь на тех, где получилось определить результат. \n",
    "А затем попробуйте пройти тест заново. Ваша способность учиться на рабочем уровне Кажется, вы хорошо организуете учебный процесс, \n",
    "умеете выбирать подходящие курсы и управлять своей нагрузкой. Допускаем, что в прошлом вы сталкивались со сложностями в обучении и смогли справиться. \n",
    "Поэтому сейчас учёба даётся легко — но со временем знания и навыки могут забываться. Ваши представления о себе и своих способностях, возможно, завышены \n",
    "Вы ставите амбициозные, но не всегда реалистичные цели в обучении. Важно понимать, что чем выше мы оцениваем свой уровень компетентности, \n",
    "тем сложнее дается учёба. Ещё одна опасность завышенных ожиданий — риск разочароваться. Если мы ждём сверхрезультатов и не получаем их, \n",
    "мотивация имеет свойство падать.\n",
    "\"\"\"\n",
    "\n",
    "# обработка текста\n",
    "doc_Natalia = nlp(text_Natalia)\n",
    "\n",
    "# вывод стоп-слов\n",
    "#stop_words = nlp.Defaults.stop_words\n",
    "#stop_words_list = sorted(list(stop_words))\n",
    "#for word in stop_words_list:\n",
    "#    print(word)\n",
    "\n",
    "#удаление стоп-слов, пунктуации\n",
    "filtered_words = [token.text for token in doc_Natalia if not token.is_stop and not token.is_punct]\n",
    "filtered_text = ' '.join(filtered_words)\n",
    "\n",
    "#cоздание нового обработанного текста doc\n",
    "doc_filtered = nlp(filtered_text)\n",
    "\n",
    "#вектора для исходного и обработанного текста\n",
    "vec_Natalia = doc_Natalia.vector\n",
    "vec_filtered = doc_filtered.vector\n",
    "\n",
    "#косинусное расстояние\n",
    "cosine_distance = cosine_similarity([vec_Natalia], [vec_filtered])\n",
    "\n",
    "print(\"Исходный текст:\", text_Natalia)\n",
    "print(\"Обработанный текст:\", filtered_text)\n",
    "print(\"Косинусное расстояние:\", cosine_distance[0][0])"
   ]
  },
  {
   "cell_type": "code",
   "execution_count": null,
   "id": "cf1fe066-f347-4db6-a729-479207d841f4",
   "metadata": {
    "tags": []
   },
   "outputs": [],
   "source": []
  },
  {
   "cell_type": "code",
   "execution_count": null,
   "id": "5bada896-7f6e-4600-80d0-428e12b55a1a",
   "metadata": {
    "tags": []
   },
   "outputs": [],
   "source": []
  },
  {
   "cell_type": "code",
   "execution_count": null,
   "id": "8f26e84b-17b4-4713-9cfd-31b7fe14f8f3",
   "metadata": {},
   "outputs": [],
   "source": []
  },
  {
   "cell_type": "code",
   "execution_count": null,
   "id": "a3a806fa-bfc0-4334-b2f6-a4496ca7ca3e",
   "metadata": {
    "tags": []
   },
   "outputs": [],
   "source": []
  },
  {
   "cell_type": "code",
   "execution_count": null,
   "id": "002cec6d-a6d2-48c3-8afe-8908e2f9c604",
   "metadata": {
    "tags": []
   },
   "outputs": [],
   "source": []
  },
  {
   "cell_type": "code",
   "execution_count": null,
   "id": "e16c1995-748c-4425-a277-6911be7cccf5",
   "metadata": {},
   "outputs": [],
   "source": []
  }
 ],
 "metadata": {
  "kernelspec": {
   "display_name": "Python 3 (ipykernel)",
   "language": "python",
   "name": "python3"
  },
  "language_info": {
   "codemirror_mode": {
    "name": "ipython",
    "version": 3
   },
   "file_extension": ".py",
   "mimetype": "text/x-python",
   "name": "python",
   "nbconvert_exporter": "python",
   "pygments_lexer": "ipython3",
   "version": "3.9.7"
  }
 },
 "nbformat": 4,
 "nbformat_minor": 5
}
